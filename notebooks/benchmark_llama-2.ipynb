{
 "cells": [
  {
   "cell_type": "code",
   "execution_count": 1,
   "metadata": {},
   "outputs": [
    {
     "name": "stdout",
     "output_type": "stream",
     "text": [
      "Running using GPU\n"
     ]
    }
   ],
   "source": [
    "import torch\n",
    "import os, json\n",
    "\n",
    "if torch.cuda.is_available():\n",
    "    device = torch.device(\"cuda\")\n",
    "    print(\"Running using GPU\")\n",
    "else:\n",
    "    device = torch.device(\"cpu\")\n",
    "    print(\"Running using CPU\")\n",
    "\n",
    "MAIN_DIR = \"..\""
   ]
  },
  {
   "cell_type": "code",
   "execution_count": 2,
   "metadata": {},
   "outputs": [],
   "source": [
    "from langchain.prompts import PromptTemplate\n",
    "from langchain.chains.summarize import load_summarize_chain\n",
    "from langchain.llms import HuggingFacePipeline\n",
    "from langchain.chains import LLMChain"
   ]
  },
  {
   "attachments": {},
   "cell_type": "markdown",
   "metadata": {},
   "source": [
    "# Llama-7B"
   ]
  },
  {
   "attachments": {},
   "cell_type": "markdown",
   "metadata": {},
   "source": [
    "## Load in Model Weights"
   ]
  },
  {
   "cell_type": "code",
   "execution_count": 3,
   "metadata": {},
   "outputs": [
    {
     "name": "stderr",
     "output_type": "stream",
     "text": [
      "c:\\Users\\gdmlqu\\llm\\envs\\lib\\site-packages\\tqdm\\auto.py:21: TqdmWarning: IProgress not found. Please update jupyter and ipywidgets. See https://ipywidgets.readthedocs.io/en/stable/user_install.html\n",
      "  from .autonotebook import tqdm as notebook_tqdm\n"
     ]
    }
   ],
   "source": [
    "from transformers import LlamaForCausalLM, LlamaTokenizer, GenerationConfig, pipeline"
   ]
  },
  {
   "cell_type": "code",
   "execution_count": null,
   "metadata": {},
   "outputs": [],
   "source": [
    "model_path_7b = os.path.join(MAIN_DIR, \"pretrained\", \"llama\", \"7B_HF\")\n",
    "model_path_13b = os.path.join(MAIN_DIR, \"pretrained\", \"llama\", \"13B_HF\")\n",
    "model_path_30b = os.path.join(MAIN_DIR, \"pretrained\", \"llama\", \"30B_HF\")\n",
    "\n",
    "# model = LlamaForCausalLM.from_pretrained(model_path_7b)\n",
    "# tokenizer = LlamaTokenizer.from_pretrained(model_path_7b)\n",
    "\n",
    "# model = LlamaForCausalLM.from_pretrained(model_path_13b)\n",
    "# tokenizer = LlamaTokenizer.from_pretrained(model_path_13b)\n",
    "\n",
    "model = LlamaForCausalLM.from_pretrained(model_path_30b)\n",
    "tokenizer = LlamaTokenizer.from_pretrained(model_path_30b)\n",
    "\n",
    "generation_configs = GenerationConfig(\n",
    "    temperature = 0.5,\n",
    "    top_p = 0.75,\n",
    "    num_beams = 5,\n",
    "    max_new_tokens = 101,\n",
    "    min_new_tokens = 100\n",
    ")\n",
    "\n",
    "llm_pipeline = pipeline(\n",
    "    task = \"text-generation\",\n",
    "    model = model,\n",
    "    tokenizer = tokenizer,\n",
    "    generation_config = generation_configs\n",
    ")\n",
    "\n",
    "llm = HuggingFacePipeline(pipeline=llm_pipeline)"
   ]
  },
  {
   "attachments": {},
   "cell_type": "markdown",
   "metadata": {},
   "source": [
    "## Benchmark on Short Prompt"
   ]
  },
  {
   "cell_type": "code",
   "execution_count": 38,
   "metadata": {},
   "outputs": [],
   "source": [
    "from transformers.tokenization_utils_base import PreTrainedTokenizerBase\n",
    "from typing import Dict, Optional"
   ]
  },
  {
   "cell_type": "code",
   "execution_count": 51,
   "metadata": {},
   "outputs": [],
   "source": [
    "def count_token_from_prompt(\n",
    "    prompt: str,\n",
    "    tokenizer: PreTrainedTokenizerBase,\n",
    "    output_text: Optional[str] = None\n",
    ") -> Dict:\n",
    "    input_tokens = tokenizer(prompt, return_tensors=\"pt\")\n",
    "    input_token_count = len(input_tokens[\"input_ids\"][0])\n",
    "    if output_text:\n",
    "        output_tokens = tokenizer(output_text, return_tensors=\"pt\")\n",
    "        output_token_count = len(output_tokens[\"input_ids\"][0])\n",
    "    else:\n",
    "        output_token_count = 0\n",
    "    \n",
    "    total_token_count = input_token_count + output_token_count\n",
    "                    \n",
    "    return {\"prompt_tokens\": input_token_count, \"generated_tokens\": output_token_count, \"total_tokens\": total_token_count}"
   ]
  },
  {
   "cell_type": "code",
   "execution_count": 63,
   "metadata": {},
   "outputs": [
    {
     "name": "stdout",
     "output_type": "stream",
     "text": [
      "\n",
      "You are a helpful and honest AI Assistant.\n",
      "=====================\n",
      "TASK:\n",
      "Your task is to answer questions provided by human.\n",
      "=====================\n",
      "Question: Give a brief introduction of Singapore history.\n",
      "\n",
      "Answer: Singapore history starts in year 1819 when\n",
      "\n"
     ]
    }
   ],
   "source": [
    "# system_prompt = \"\"\"\n",
    "# You are a helpful and honest AI Assistant.\n",
    "# =====================\n",
    "# TASK:\n",
    "# Your task is to answer questions provided by human.\n",
    "# \"\"\"\n",
    "\n",
    "# human_prompt = \"Question: {question}\"\n",
    "\n",
    "# SHORT_PROMPT = ChatPromptTemplate.from_messages(\n",
    "#     [\n",
    "#         SystemMessagePromptTemplate.from_template(system_prompt),\n",
    "#         HumanMessagePromptTemplate.from_template(human_prompt)\n",
    "#     ]\n",
    "# )\n",
    "\n",
    "# template_question = \"Give a brief introduction of Singapore history.\"\n",
    "# print(SHORT_PROMPT.format(question = template_question))\n",
    "\n",
    "prompt = \"\"\"\n",
    "You are a helpful and honest AI Assistant.\n",
    "=====================\n",
    "TASK:\n",
    "Your task is to answer questions provided by human.\n",
    "=====================\n",
    "Question: {question}\n",
    "\n",
    "Answer: {prefix}\n",
    "\"\"\"\n",
    "\n",
    "SHORT_PROMPT = PromptTemplate.from_template(\n",
    "    template = prompt,\n",
    ")\n",
    "\n",
    "template_question = \"Give a brief introduction of Singapore history.\"\n",
    "prefix = \"Singapore history starts in year 1819 when\"\n",
    "\n",
    "print(SHORT_PROMPT.format(question=template_question, prefix=prefix))"
   ]
  },
  {
   "cell_type": "code",
   "execution_count": 84,
   "metadata": {},
   "outputs": [],
   "source": [
    "llama_7b_qa_chain = LLMChain(\n",
    "    llm=llm,\n",
    "    prompt=SHORT_PROMPT,\n",
    "    verbose=True\n",
    ")"
   ]
  },
  {
   "cell_type": "code",
   "execution_count": 79,
   "metadata": {},
   "outputs": [
    {
     "name": "stdout",
     "output_type": "stream",
     "text": [
      "\n",
      "\n",
      "\u001b[1m> Entering new LLMChain chain...\u001b[0m\n",
      "Prompt after formatting:\n",
      "\u001b[32;1m\u001b[1;3m\n",
      "You are a helpful and honest AI Assistant.\n",
      "=====================\n",
      "TASK:\n",
      "Your task is to answer questions provided by human.\n",
      "=====================\n",
      "Question: Give a brief introduction of Singapore history.\n",
      "\n",
      "Answer: Singapore history starts in year 1819 when\n",
      "\u001b[0m\n",
      "\n",
      "\u001b[1m> Finished chain.\u001b[0m\n",
      "\\begin{itemize}\n",
      "\\item Sir Stamford Raffles\n",
      "\\end{itemize}\n",
      "\n",
      "arrived in Singapore.\n",
      "\\begin{itemize}\n",
      "\\item Sir Stamford Raffles\n",
      "\\end{itemize}\n",
      "\n",
      "arrived in Singapore.\n",
      "\\begin{itemize}\n",
      "\\item Sir Stamford Raffles\n",
      "\\end{itemize}\n",
      "\n",
      "arrived in Singapore.\n",
      "\\begin{itemize}\n",
      "\\item Sir Stam\n"
     ]
    }
   ],
   "source": [
    "%timeit\n",
    "answers = []\n",
    "response = llama_7b_qa_chain({\"question\": template_question, \"prefix\": prefix})\n",
    "answers.append(response)\n",
    "print(response[\"text\"])"
   ]
  },
  {
   "cell_type": "code",
   "execution_count": 80,
   "metadata": {},
   "outputs": [
    {
     "name": "stdout",
     "output_type": "stream",
     "text": [
      "\\begin{itemize}\n",
      "\\item Sir Stamford Raffles\n",
      "\\end{itemize}\n",
      "\n",
      "arrived in Singapore.\n",
      "\\begin{itemize}\n",
      "\\item Sir Stamford Raffles\n",
      "\\end{itemize}\n",
      "\n",
      "arrived in Singapore.\n",
      "\\begin{itemize}\n",
      "\\item Sir Stamford Raffles\n",
      "\\end{itemize}\n",
      "\n",
      "arrived in Singapore.\n",
      "\\begin{itemize}\n",
      "\\item Sir Stam\n"
     ]
    }
   ],
   "source": [
    "print(answers[0][\"text\"])"
   ]
  },
  {
   "cell_type": "code",
   "execution_count": 81,
   "metadata": {},
   "outputs": [
    {
     "data": {
      "text/plain": [
       "{'prompt_tokens': 65, 'generated_tokens': 102, 'total_tokens': 167}"
      ]
     },
     "execution_count": 81,
     "metadata": {},
     "output_type": "execute_result"
    }
   ],
   "source": [
    "count_token_from_prompt(\n",
    "    SHORT_PROMPT.format(question=template_question, prefix=prefix),\n",
    "    tokenizer=tokenizer,\n",
    "    output_text=answers[0][\"text\"]\n",
    "    )"
   ]
  },
  {
   "attachments": {},
   "cell_type": "markdown",
   "metadata": {},
   "source": [
    "## Benchmark on Long Prompt"
   ]
  },
  {
   "cell_type": "code",
   "execution_count": 11,
   "metadata": {},
   "outputs": [],
   "source": [
    "from langchain.chains.summarize import load_summarize_chain\n",
    "from langchain.document_loaders import TextLoader"
   ]
  },
  {
   "cell_type": "code",
   "execution_count": 12,
   "metadata": {},
   "outputs": [
    {
     "name": "stdout",
     "output_type": "stream",
     "text": [
      "Number of loaded document: 4\n"
     ]
    }
   ],
   "source": [
    "document_folder = os.path.join(MAIN_DIR, \"llm-workshops\", \"SGH\", \"example2\")\n",
    "document_paths = [os.path.join(document_folder, file_path) for file_path in os.listdir(document_folder)] # Generate the list of paths to all doc\n",
    "\n",
    "all_meetings = []\n",
    "for document_path in document_paths:\n",
    "    all_meetings.extend(TextLoader(document_path, encoding = \"utf8\").load()) # TextLoader Module will read the content of the text files \n",
    "\n",
    "print(\"Number of loaded document:\", len(all_meetings))"
   ]
  },
  {
   "cell_type": "code",
   "execution_count": 13,
   "metadata": {},
   "outputs": [
    {
     "name": "stdout",
     "output_type": "stream",
     "text": [
      "======DATE: 12-Dec-2022======\n",
      "\n",
      "Doctor: Good morning, my name is Dr. Anderson. How can I assist you today?\n",
      "\n",
      "Patient: Good morning, Doctor. I've been experiencing some abdominal pain lately, and I've noticed some blood in my stool. I'm quite worried about it.\n",
      "\n",
      "Doctor: I understand. It's good that you've come to see me. Can you describe the pain you are feeling?\n",
      "\n",
      "Patient: It's a kind of sharp pain that comes and goes. It's mainly in the lower part of my abdomen.\n",
      "\n",
      "Doctor: And can you tell me how long this has been going on?\n",
      "\n",
      "Patient: I'd say for about two weeks now.\n",
      "\n",
      "Doctor: Okay, I see. I understand that this can be concerning. We'll get to the bottom of this. Now, I'm going to ask you a few questions to help me understand your situation better. May I know your age, please?\n",
      "\n",
      "Patient: I'm 55 years old.\n",
      "\n",
      "Doctor: Thank you. Are you currently taking any medication or do you have any known allergies?\n",
      "\n",
      "Patient: No, I'm not on any medication. As for allergies, I'm allergic to penicillin.\n",
      "\n",
      "Doctor: Noted. And have you previously had any similar symptoms or any major health issues?\n",
      "\n",
      "Patient: No, this is the first time I'm experiencing something like this. I've generally been in good health.\n",
      "\n",
      "Doctor: Alright. And how about your family history? Any known cases of gastrointestinal diseases, specifically colon cancer?\n",
      "\n",
      "Patient: My father had colon cancer. He was diagnosed in his late 60s.\n",
      "\n",
      "Doctor: I see. That's very important to know. Considering your age, symptoms, and family history, there's a chance that these symptoms could be related to polyps in the colon, benign growths that can sometimes lead to colon cancer. However, we need more information before jumping to conclusions. \n",
      "\n",
      "Patient: That's quite worrying, doctor.\n",
      "\n",
      "Doctor: I understand your concern, but please remember we are just considering possibilities at this stage. Let's continue with the questions. Do you smoke or consume alcohol?\n",
      "\n",
      "Patient: I used to smoke but quit about ten years ago. I drink socially, maybe a glass of wine or two during the weekends.\n",
      "\n",
      "Doctor: Good to hear you quit smoking. And your alcohol consumption seems moderate. How about your diet and physical activity? Do you consume a lot of red or processed meat? And do you have regular exercise?\n",
      "\n",
      "Patient: I must admit my diet isn't the healthiest. I eat red meat quite often and don't exercise as much as I should.\n",
      "\n",
      "Doctor: Okay, thank you for being honest. It's important to remember that a healthy diet and regular exercise can lower the risk of many diseases, including colon polyps. Now, based on your symptoms and the information you've provided, I would recommend a colonoscopy. This procedure will allow us to view the inside of your entire colon and rectum to check for any abnormalities.\n",
      "\n",
      "Patient: That sounds serious, doctor.\n",
      "\n",
      "Doctor: It's a routine screening procedure, especially for individuals over 50 years old. It's the most effective way to detect colon polyps and colon cancer early. The procedure itself is safe and usually takes about 30 minutes to an hour.\n",
      "\n",
      "Patient: What should I expect during the procedure?\n",
      "\n",
      "Doctor: You will be sedated during the procedure to keep you comfortable. A thin, flexible tube with a small camera on the end will be inserted into your rectum to allow us to view your colon. If any polyps are found, they can be removed during the procedure for biopsy.\n",
      "\n",
      "Patient: I see. And what happens after that?\n",
      "\n",
      "Doctor: If polyps are found and removed, they will be sent to the lab for analysis to determine if they are benign, precancerous, or cancerous. If they are benign, we will simply monitor you. If they are precancerous or cancerous, we will discuss further treatment options. But remember, we are just taking precautions at this stage. It's important not to worry until we have all the facts.\n",
      "\n",
      "Patient: Thank you, Dr. Anderson. I feel much better having all this information.\n",
      "\n",
      "Doctor: I'm glad to hear that. Remember, the goal is to catch and address any potential issues as early as possible. That's the best way to ensure a positive outcome. I'll arrange for the nurse to provide you with instructions to prepare for the colonoscopy. Do you have any other questions?\n",
      "\n",
      "Patient: No, that will be all for now.\n",
      "\n",
      "Doctor: Alright, we'll see you again soon for the procedure. Take care.\n",
      "\n",
      "Patient: Thank you, Doctor.\n"
     ]
    }
   ],
   "source": [
    "first_meeting = all_meetings[0]\n",
    "print(first_meeting.page_content)"
   ]
  },
  {
   "cell_type": "code",
   "execution_count": 28,
   "metadata": {},
   "outputs": [],
   "source": [
    "summarize_prompt = \"\"\"You are an honest and detail-oriented AI Medical Assistant. If you do not know the answers, just say I don't know, do not make up an answer.\n",
    "=========================\n",
    "TASK: Your task is to summarize the conversation between the doctor and the patient for doctors' future refence for treatments/recommendations.\n",
    "Note that your summary should be concise while including details on patients and treatments.\n",
    "========================\n",
    "OUTPUT INSTRUCTION: Your summary should include, if applicable:\n",
    "- Patient's details such as age, gender, ethnicity and family member history\n",
    "- Living habit such as eating, drinking, smoking\n",
    "- Previous medical conditions, treatment, medication\n",
    "- Current Symptoms & Treatment recommendation.\n",
    "\n",
    "Keep your summary in fewer than 300 words.\n",
    "=======================\n",
    "CONVERSATION:\n",
    "{text}\n",
    "=======================\n",
    "SUMMARY:\n",
    "\"\"\"\n",
    "\n",
    "custom_summarize_prompt = PromptTemplate.from_template(\n",
    "    summarize_prompt\n",
    ")\n",
    "\n",
    "custom_summarize_chain = load_summarize_chain(\n",
    "    llm = llm,\n",
    "    prompt = custom_summarize_prompt,\n",
    "    chain_type = \"stuff\",\n",
    "    verbose = True\n",
    "    )"
   ]
  },
  {
   "cell_type": "code",
   "execution_count": 29,
   "metadata": {},
   "outputs": [
    {
     "data": {
      "text/plain": [
       "1986"
      ]
     },
     "execution_count": 29,
     "metadata": {},
     "output_type": "execute_result"
    }
   ],
   "source": [
    "documents_str = \"\\n\\n\".join(document.page_content for document in all_meetings[:2])\n",
    "\n",
    "prompt_str = summarize_prompt.format(text = documents_str)\n",
    "len(tokenizer(prompt_str)[\"input_ids\"])"
   ]
  },
  {
   "cell_type": "code",
   "execution_count": 30,
   "metadata": {},
   "outputs": [
    {
     "name": "stdout",
     "output_type": "stream",
     "text": [
      "\n",
      "\n",
      "\u001b[1m> Entering new StuffDocumentsChain chain...\u001b[0m\n",
      "\n",
      "\n",
      "\u001b[1m> Entering new LLMChain chain...\u001b[0m\n",
      "Prompt after formatting:\n",
      "\u001b[32;1m\u001b[1;3mYou are an honest and detail-oriented AI Medical Assistant. If you do not know the answers, just say I don't know, do not make up an answer.\n",
      "=========================\n",
      "TASK: Your task is to summarize the conversation between the doctor and the patient for doctors' future refence for treatments/recommendations.\n",
      "Note that your summary should be concise while including details on patients and treatments.\n",
      "========================\n",
      "OUTPUT INSTRUCTION: Your summary should include, if applicable:\n",
      "- Patient's details such as age, gender, ethnicity and family member history\n",
      "- Living habit such as eating, drinking, smoking\n",
      "- Previous medical conditions, treatment, medication\n",
      "- Current Symptoms & Treatment recommendation.\n",
      "\n",
      "Keep your summary in fewer than 300 words.\n",
      "=======================\n",
      "CONVERSATION:\n",
      "======DATE: 12-Dec-2022======\n",
      "\n",
      "Doctor: Good morning, my name is Dr. Anderson. How can I assist you today?\n",
      "\n",
      "Patient: Good morning, Doctor. I've been experiencing some abdominal pain lately, and I've noticed some blood in my stool. I'm quite worried about it.\n",
      "\n",
      "Doctor: I understand. It's good that you've come to see me. Can you describe the pain you are feeling?\n",
      "\n",
      "Patient: It's a kind of sharp pain that comes and goes. It's mainly in the lower part of my abdomen.\n",
      "\n",
      "Doctor: And can you tell me how long this has been going on?\n",
      "\n",
      "Patient: I'd say for about two weeks now.\n",
      "\n",
      "Doctor: Okay, I see. I understand that this can be concerning. We'll get to the bottom of this. Now, I'm going to ask you a few questions to help me understand your situation better. May I know your age, please?\n",
      "\n",
      "Patient: I'm 55 years old.\n",
      "\n",
      "Doctor: Thank you. Are you currently taking any medication or do you have any known allergies?\n",
      "\n",
      "Patient: No, I'm not on any medication. As for allergies, I'm allergic to penicillin.\n",
      "\n",
      "Doctor: Noted. And have you previously had any similar symptoms or any major health issues?\n",
      "\n",
      "Patient: No, this is the first time I'm experiencing something like this. I've generally been in good health.\n",
      "\n",
      "Doctor: Alright. And how about your family history? Any known cases of gastrointestinal diseases, specifically colon cancer?\n",
      "\n",
      "Patient: My father had colon cancer. He was diagnosed in his late 60s.\n",
      "\n",
      "Doctor: I see. That's very important to know. Considering your age, symptoms, and family history, there's a chance that these symptoms could be related to polyps in the colon, benign growths that can sometimes lead to colon cancer. However, we need more information before jumping to conclusions. \n",
      "\n",
      "Patient: That's quite worrying, doctor.\n",
      "\n",
      "Doctor: I understand your concern, but please remember we are just considering possibilities at this stage. Let's continue with the questions. Do you smoke or consume alcohol?\n",
      "\n",
      "Patient: I used to smoke but quit about ten years ago. I drink socially, maybe a glass of wine or two during the weekends.\n",
      "\n",
      "Doctor: Good to hear you quit smoking. And your alcohol consumption seems moderate. How about your diet and physical activity? Do you consume a lot of red or processed meat? And do you have regular exercise?\n",
      "\n",
      "Patient: I must admit my diet isn't the healthiest. I eat red meat quite often and don't exercise as much as I should.\n",
      "\n",
      "Doctor: Okay, thank you for being honest. It's important to remember that a healthy diet and regular exercise can lower the risk of many diseases, including colon polyps. Now, based on your symptoms and the information you've provided, I would recommend a colonoscopy. This procedure will allow us to view the inside of your entire colon and rectum to check for any abnormalities.\n",
      "\n",
      "Patient: That sounds serious, doctor.\n",
      "\n",
      "Doctor: It's a routine screening procedure, especially for individuals over 50 years old. It's the most effective way to detect colon polyps and colon cancer early. The procedure itself is safe and usually takes about 30 minutes to an hour.\n",
      "\n",
      "Patient: What should I expect during the procedure?\n",
      "\n",
      "Doctor: You will be sedated during the procedure to keep you comfortable. A thin, flexible tube with a small camera on the end will be inserted into your rectum to allow us to view your colon. If any polyps are found, they can be removed during the procedure for biopsy.\n",
      "\n",
      "Patient: I see. And what happens after that?\n",
      "\n",
      "Doctor: If polyps are found and removed, they will be sent to the lab for analysis to determine if they are benign, precancerous, or cancerous. If they are benign, we will simply monitor you. If they are precancerous or cancerous, we will discuss further treatment options. But remember, we are just taking precautions at this stage. It's important not to worry until we have all the facts.\n",
      "\n",
      "Patient: Thank you, Dr. Anderson. I feel much better having all this information.\n",
      "\n",
      "Doctor: I'm glad to hear that. Remember, the goal is to catch and address any potential issues as early as possible. That's the best way to ensure a positive outcome. I'll arrange for the nurse to provide you with instructions to prepare for the colonoscopy. Do you have any other questions?\n",
      "\n",
      "Patient: No, that will be all for now.\n",
      "\n",
      "Doctor: Alright, we'll see you again soon for the procedure. Take care.\n",
      "\n",
      "Patient: Thank you, Doctor.\n",
      "\n",
      "======DATE: 12-Jan-2023======\n",
      "\n",
      "Doctor: Good morning. It's nice to see you again. How have you been feeling since our last meeting?\n",
      "\n",
      "Patient: Good morning, Doctor. I've been feeling okay, just a bit anxious about the results.\n",
      "\n",
      "Doctor: Understandably so. Let's get straight to it then. As I explained earlier, we conducted a colonoscopy to screen for any abnormalities in your colon and rectum. During the procedure, we found and removed some polyps.\n",
      "\n",
      "Patient: Polyps? What exactly does that mean?\n",
      "\n",
      "Doctor: Polyps are abnormal growths that can develop in the colon lining. They vary in size and most of them are benign, which means they are not cancerous. However, some can become cancerous over time if left untreated.\n",
      "\n",
      "Patient: So, do I have cancer?\n",
      "\n",
      "Doctor: It's too early to definitively say. The removed polyps have been sent to the lab for a biopsy, which is a detailed examination under a microscope to determine if they are benign, precancerous, or cancerous.\n",
      "\n",
      "Patient: What happens if they are cancerous?\n",
      "\n",
      "Doctor: If the polyps are found to be cancerous, we'll need to conduct further tests to determine the stage of the cancer, which will guide our treatment plan. The treatment for colon cancer can include surgery, chemotherapy, and radiation therapy.\n",
      "\n",
      "Patient: And if they are benign or precancerous?\n",
      "\n",
      "Doctor: If the polyps are benign, we'll continue to monitor you with regular screenings to make sure no new polyps develop. If they are precancerous, we may recommend a more frequent screening schedule and discuss options for prevention, which could include lifestyle changes and possibly medication.\n",
      "\n",
      "Patient: I see. When will I know the results of the biopsy?\n",
      "\n",
      "Doctor: The results should be ready in about a week. I know it's difficult, but try not to worry too much until we have all the facts. Regardless of the outcome, we'll discuss the next steps thoroughly and decide on the best course of action for you.\n",
      "\n",
      "Patient: Thank you for explaining everything, Doctor. It's a lot to take in but it helps to understand what's happening.\n",
      "\n",
      "Doctor: Of course, I'm here to help you through this process. Remember, catching potential issues early increases the chances of a successful treatment significantly. I'll let you know as soon as the biopsy results come in. Do you have any other questions?\n",
      "\n",
      "Patient: No, not at this time. I really appreciate your help, Doctor.\n",
      "\n",
      "Doctor: It's my pleasure. Take care and we'll speak soon.\n",
      "=======================\n",
      "SUMMARY:\n",
      "\u001b[0m\n",
      "\n",
      "\u001b[1m> Finished chain.\u001b[0m\n",
      "\n",
      "\u001b[1m> Finished chain.\u001b[0m\n"
     ]
    }
   ],
   "source": [
    "custom_summary_all = custom_summarize_chain(all_meetings[:2]) # Send API request & extract content of API response"
   ]
  },
  {
   "cell_type": "code",
   "execution_count": 32,
   "metadata": {},
   "outputs": [
    {
     "name": "stdout",
     "output_type": "stream",
     "text": [
      "Doctor: Good morning, my name is Dr. Anderson. How can I assist you today?\n",
      "\n",
      "Patient: Good morning, Doctor. I've been experiencing some abdominal pain lately, and I've noticed some blood in my stool. I'm quite worried about it.\n",
      "\n",
      "Doctor: I understand. It's good that you've come to see me. Can you describe the pain you are feeling?\n",
      "\n",
      "Patient: It\n"
     ]
    }
   ],
   "source": [
    "print(custom_summary_all[\"output_text\"])"
   ]
  }
 ],
 "metadata": {
  "kernelspec": {
   "display_name": "Python 3",
   "language": "python",
   "name": "python3"
  },
  "language_info": {
   "codemirror_mode": {
    "name": "ipython",
    "version": 3
   },
   "file_extension": ".py",
   "mimetype": "text/x-python",
   "name": "python",
   "nbconvert_exporter": "python",
   "pygments_lexer": "ipython3",
   "version": "3.8.10"
  },
  "orig_nbformat": 4
 },
 "nbformat": 4,
 "nbformat_minor": 2
}
